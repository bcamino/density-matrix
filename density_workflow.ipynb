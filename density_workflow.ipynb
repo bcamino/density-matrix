{
 "cells": [
  {
   "cell_type": "markdown",
   "id": "b2fd8b11",
   "metadata": {},
   "source": [
    "# Workflow to test density matrix merge\n",
    "The function cry_combine_density is usually part of crystal_functions.file_readwrite. However, for testing purposes it's copied into the repository file density.py."
   ]
  },
  {
   "cell_type": "code",
   "execution_count": 16,
   "id": "443dd9e8",
   "metadata": {},
   "outputs": [],
   "source": [
    "from density import cry_combine_density #This is the test version\n",
    "from crystal_functions.execute import runcry, runprop\n",
    "from crystal_functions.file_readwrite import Crystal_output, write_cry_input, write_cry_properties, Crystal_input\n",
    "from crystal_functions.calculate import cry_ads_energy\n",
    "from crystal_functions.adsorb import sub_ads_indices\n",
    "\n",
    "# pymatgen imports\n",
    "from pymatgen.core.structure import Molecule, Structure, Lattice\n",
    "from pymatgen.core.surface import SlabGenerator, generate_all_slabs\n",
    "from pymatgen.symmetry.analyzer import SpacegroupAnalyzer\n",
    "from pymatgen.analysis.adsorption import AdsorbateSiteFinder\n",
    "from pymatgen.ext.matproj import MPRester\n",
    "from pymatgen.io.ase import AseAtomsAdaptor\n",
    "\n",
    "from ase.visualize import view\n",
    "\n",
    "import pandas as pd\n",
    "import shutil \n",
    "import numpy as np"
   ]
  },
  {
   "cell_type": "markdown",
   "id": "4561b120",
   "metadata": {},
   "source": [
    "### Find a suitable molecular database"
   ]
  },
  {
   "cell_type": "code",
   "execution_count": 17,
   "id": "57f7bad8",
   "metadata": {},
   "outputs": [],
   "source": [
    "adsorbate = Molecule('HHO',[[0.76,0.00,0.50],[-0.76, 0.00,0.50],[0.0, 0.0, 0.0]])\n",
    "#adsorbate = Molecule('O',[[0.0, 0.0, 0.0]])\n",
    "with MPRester(\"My_ID\") as m:    \n",
    "    rutile = m.get_structure_by_material_id(\"mp-2657\")\n",
    "    mgo = m.get_structure_by_material_id(\"mp-1265\")\n",
    "    anatase = m.get_structure_by_material_id(\"mp-390\")\n",
    "bulk = mgo"
   ]
  },
  {
   "cell_type": "markdown",
   "id": "e3489424",
   "metadata": {},
   "source": [
    "### Make these into loops over substrates and adsorbates"
   ]
  },
  {
   "cell_type": "code",
   "execution_count": 18,
   "id": "5a3a7478",
   "metadata": {},
   "outputs": [],
   "source": [
    "bulk = SpacegroupAnalyzer(bulk).get_conventional_standard_structure()"
   ]
  },
  {
   "cell_type": "code",
   "execution_count": 19,
   "id": "2887e8ad",
   "metadata": {},
   "outputs": [],
   "source": [
    "substrate = (SlabGenerator(bulk, (1,0,0), 10., 10., center_slab=True, max_normal_search=5).get_slab())"
   ]
  },
  {
   "cell_type": "markdown",
   "id": "e1c1db2b",
   "metadata": {},
   "source": [
    "For now we adsorb on one surface only because I'm still working on the adsorb_both_surfaces"
   ]
  },
  {
   "cell_type": "code",
   "execution_count": 23,
   "id": "65871af3",
   "metadata": {},
   "outputs": [],
   "source": [
    "system = AdsorbateSiteFinder(substrate).generate_adsorption_structures(adsorbate,repeat=[1,1,1])"
   ]
  },
  {
   "cell_type": "code",
   "execution_count": 5,
   "id": "2e0c4a4b",
   "metadata": {},
   "outputs": [],
   "source": [
    "#system = AdsorbateSiteFinder(substrate).adsorb_both_surfaces(adsorbate,repeat=[1,1,1])[0]"
   ]
  },
  {
   "cell_type": "code",
   "execution_count": 6,
   "id": "a74711d5",
   "metadata": {},
   "outputs": [],
   "source": [
    "geom_block = ['Adsorption tests\\n','EXTERNAL\\n','EXTPRT\\n','OPTGEOM\\n','END\\n']\n",
    "bs_block = ['BASISSET\\n', 'POB-DZVP\\n']\n",
    "func_block = ['DFT\\n', 'B3LYP\\n', 'XXLGRID\\n', 'ENDDFT\\n']\n",
    "scf_block = [['TOLINTEG\\n', '7 7 7 7 14\\n'],\n",
    "             ['SHRINK\\n', '12 24\\n'],\n",
    "             ['MAXCYCLE\\n', '200\\n'],\n",
    "             ['FMIXING\\n', '70\\n'],\n",
    "             'DIIS\\n',\n",
    "             'ENDSCF\\n']"
   ]
  },
  {
   "cell_type": "markdown",
   "id": "80746f57",
   "metadata": {},
   "source": [
    "### Change the path"
   ]
  },
  {
   "cell_type": "code",
   "execution_count": 7,
   "id": "248a9bcc",
   "metadata": {},
   "outputs": [],
   "source": [
    "path = 'data/test'\n",
    "input_name = path+str(substrate.composition).replace(\" \", \"\")+'_'+str(adsorbate.composition).replace(\" \", \"\")+'_' \\\n",
    "               +''.join(str(x) for x in substrate.miller_index)+'.d12'\n",
    "file_names = input_name[:-4]\n",
    "write_cry_input(input_name,crystal_blocks=[geom_block,bs_block,func_block,scf_block],external_obj=system)"
   ]
  },
  {
   "cell_type": "markdown",
   "id": "018a269f",
   "metadata": {},
   "source": [
    "# Run on cx1 "
   ]
  },
  {
   "cell_type": "markdown",
   "id": "2e669a2d",
   "metadata": {},
   "source": [
    "### Check this is fine on cx1\n",
    "We might need to change the names if we are testing different materials because they can't all be called adsrobate and substrate."
   ]
  },
  {
   "cell_type": "code",
   "execution_count": 9,
   "id": "13e48766",
   "metadata": {},
   "outputs": [
    {
     "data": {
      "text/plain": [
       "'data/test/adsorbate.gui'"
      ]
     },
     "execution_count": 9,
     "metadata": {},
     "output_type": "execute_result"
    }
   ],
   "source": [
    "#System\n",
    "system_inp = Crystal_input(input_name)\n",
    "system_inp.opt_to_sp()\n",
    "bsse_sub_inp_name = path+'system.d12'\n",
    "write_cry_input(bsse_sub_inp_name,system_inp)\n",
    "\n",
    "shutil.copy(input_name[:-4]+'.gui',path+'system.gui')\n",
    "\n",
    "#Substrate\n",
    "indices = sub_ads_indices(system)\n",
    "bsse_sub_inp = Crystal_input(input_name)\n",
    "bsse_sub_inp.add_ghost(indices['adsorbate'])\n",
    "bsse_sub_inp.opt_to_sp()\n",
    "bsse_sub_inp_name = path+'substrate.d12'\n",
    "write_cry_input(bsse_sub_inp_name,bsse_sub_inp)\n",
    "\n",
    "shutil.copy(input_name[:-4]+'.gui',path+'substrate.gui')\n",
    "\n",
    "#Adsorbate\n",
    "bsse_ads_inp = Crystal_input(input_name)\n",
    "bsse_ads_inp.add_ghost(indices['substrate'])\n",
    "bsse_sub_inp.opt_to_sp()\n",
    "bsse_ads_inp_name = path+'adsorbate.d12'\n",
    "write_cry_input(bsse_ads_inp_name,bsse_ads_inp)\n",
    "\n",
    "shutil.copy(input_name[:-4]+'.gui',path+'adsorbate.gui')"
   ]
  },
  {
   "cell_type": "markdown",
   "id": "71957646",
   "metadata": {},
   "source": [
    "# Run on cx1 "
   ]
  },
  {
   "cell_type": "markdown",
   "id": "5882dfd9",
   "metadata": {},
   "source": [
    "### Check this is fine on cx1\n",
    "We need to use properties to read the formatted wave function (.f98), write the unformatted one (.f9) and copy that into .f20 that is where the guessp is read from. An issue here could be that the runprop script doesn't copy back the f9. If that is the case we need to modify the script."
   ]
  },
  {
   "cell_type": "code",
   "execution_count": 13,
   "id": "2a4910ad",
   "metadata": {},
   "outputs": [
    {
     "data": {
      "text/plain": [
       "'data/test/system_guessp_p_sum.f20'"
      ]
     },
     "execution_count": 13,
     "metadata": {},
     "output_type": "execute_result"
    }
   ],
   "source": [
    "density1 = 'data/test/substrate.f98'\n",
    "density2 = 'data/test/adsorbate.f98'\n",
    "density3 = 'data/test/system.f98'\n",
    "cry_combine_density(density1,density2,density3,'data/test/new_density.f98')\n",
    "\n",
    "\n",
    "file_name = 'system_guessp_p_sum'\n",
    "\n",
    "prop_block = ['RDFMWF\\n','END']\n",
    "write_cry_properties(path+file_name+'.d3',prop_block)\n",
    "\n",
    "shutil.copy(path+'new_density.f98',path+'%s.f98'%(file_name))\n",
    "\n",
    "runprop(path+'%s.d3'%(file_name),path+'%s.f98'%(file_name))\n",
    "\n",
    "shutil.copy(path+'%s.f9'%(file_name),path+'%s.f20'%(file_name))\n",
    "\n",
    "#runcry(path+file_name,path+file_name)"
   ]
  },
  {
   "cell_type": "markdown",
   "id": "0c6f8954",
   "metadata": {},
   "source": [
    "# Run on cx1 "
   ]
  },
  {
   "cell_type": "code",
   "execution_count": 14,
   "id": "1f57bcf1",
   "metadata": {},
   "outputs": [],
   "source": [
    "files = [path+'system.out',path+'system_guessp_p_sum.out']\n",
    "#,'data/system_guessp_fock0.out']\n",
    "energy = []\n",
    "cycles = []\n",
    "e_ads = []\n",
    "final_energy = []\n",
    "for file in files:\n",
    "    energy.append(Crystal_output(file).final_energy())\n",
    "    cycles.append(Crystal_output(file).num_cycles())\n",
    "    e_ads.append(cry_ads_energy(Crystal_output(file).final_energy(),\n",
    "                                Crystal_output(path+'substrate.out').final_energy(),\n",
    "                                Crystal_output(path+'adsorbate.out').final_energy()))\n",
    "    final_energy.append(Crystal_output(file).final_energy())\n",
    "    "
   ]
  },
  {
   "cell_type": "code",
   "execution_count": 15,
   "id": "e2cd18e5",
   "metadata": {},
   "outputs": [
    {
     "data": {
      "text/html": [
       "<div>\n",
       "<style scoped>\n",
       "    .dataframe tbody tr th:only-of-type {\n",
       "        vertical-align: middle;\n",
       "    }\n",
       "\n",
       "    .dataframe tbody tr th {\n",
       "        vertical-align: top;\n",
       "    }\n",
       "\n",
       "    .dataframe thead th {\n",
       "        text-align: right;\n",
       "    }\n",
       "</style>\n",
       "<table border=\"1\" class=\"dataframe\">\n",
       "  <thead>\n",
       "    <tr style=\"text-align: right;\">\n",
       "      <th></th>\n",
       "      <th>Name</th>\n",
       "      <th>Cycles</th>\n",
       "      <th>E ads</th>\n",
       "      <th>Final Energy</th>\n",
       "    </tr>\n",
       "  </thead>\n",
       "  <tbody>\n",
       "    <tr>\n",
       "      <th>0</th>\n",
       "      <td>data/test/system.out</td>\n",
       "      <td>13</td>\n",
       "      <td>-0.087824</td>\n",
       "      <td>-49131.159455</td>\n",
       "    </tr>\n",
       "    <tr>\n",
       "      <th>1</th>\n",
       "      <td>data/test/system_guessp_p_sum.out</td>\n",
       "      <td>7</td>\n",
       "      <td>-0.087825</td>\n",
       "      <td>-49131.159456</td>\n",
       "    </tr>\n",
       "  </tbody>\n",
       "</table>\n",
       "</div>"
      ],
      "text/plain": [
       "                                Name  Cycles     E ads  Final Energy\n",
       "0               data/test/system.out      13 -0.087824 -49131.159455\n",
       "1  data/test/system_guessp_p_sum.out       7 -0.087825 -49131.159456"
      ]
     },
     "execution_count": 15,
     "metadata": {},
     "output_type": "execute_result"
    }
   ],
   "source": [
    "df = pd.DataFrame(list(zip(files,cycles,e_ads,final_energy)),\n",
    "                 columns=['Name','Cycles','E ads','Final Energy'])\n",
    "df"
   ]
  }
 ],
 "metadata": {
  "kernelspec": {
   "display_name": "Python 3 (ipykernel)",
   "language": "python",
   "name": "python3"
  },
  "language_info": {
   "codemirror_mode": {
    "name": "ipython",
    "version": 3
   },
   "file_extension": ".py",
   "mimetype": "text/x-python",
   "name": "python",
   "nbconvert_exporter": "python",
   "pygments_lexer": "ipython3",
   "version": "3.9.7"
  }
 },
 "nbformat": 4,
 "nbformat_minor": 5
}
